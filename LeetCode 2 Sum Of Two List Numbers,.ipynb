{
 "cells": [
  {
   "cell_type": "markdown",
   "metadata": {},
   "source": [
    "给出两个 非空 的链表用来表示两个非负的整数。其中，它们各自的位数是按照 逆序 的方式存储的，并且它们的每个节点只能存储 一位 数字。\n",
    "\n",
    "如果，我们将这两个数相加起来，则会返回一个新的链表来表示它们的和。\n",
    "\n",
    "您可以假设除了数字 0 之外，这两个数都不会以 0 开头。\n",
    "\n",
    "示例：\n",
    "\n",
    "输入：(2 -> 4 -> 3) + (5 -> 6 -> 4)\n",
    "\n",
    "输出：7 -> 0 -> 8\n",
    "\n",
    "原因：342 + 465 = 807\n"
   ]
  },
  {
   "cell_type": "code",
   "execution_count": 1,
   "metadata": {},
   "outputs": [],
   "source": [
    "class ListNode:\n",
    "    def __init__(self, val=0, next=None):\n",
    "        self.val = val\n",
    "        self.next = next\n",
    "class Solution:\n",
    "    def addTwoNumbers(self, l1: ListNode, l2: ListNode) -> ListNode:\n",
    "        # 创建一个结点值为 None 的头结点, dummy 和 p 指向头结点, dummy 用来最后返回, p 用来遍历\n",
    "        dummy = p = ListNode(None)          \n",
    "        s = 0               # 初始化进位 s 为 0\n",
    "        while l1 or l2 or s:\n",
    "            # 如果 l1 或 l2 存在, 则取l1的值 + l2的值 + s(s初始为0, 如果下面有进位1, 下次加上)\n",
    "            s += (l1.val if l1 else 0) + (l2.val if l2 else 0)  \n",
    "            p.next = ListNode(s % 10)       # p.next 指向新链表, 用来创建一个新的链表\n",
    "            p = p.next                      # p 向后遍历\n",
    "            s //= 10                        # 有进位情况则取模, eg. s = 18, 18 // 10 = 1\n",
    "            l1 = l1.next if l1 else None    # 如果l1存在, 则向后遍历, 否则为 None\n",
    "            l2 = l2.next if l2 else None    # 如果l2存在, 则向后遍历, 否则为 None\n",
    "        return dummy.next   # 返回 dummy 的下一个节点, 因为 dummy 指向的是空的头结点, 下一个节点才是新建链表的后序节点"
   ]
  }
 ],
 "metadata": {
  "kernelspec": {
   "display_name": "Python 3",
   "language": "python",
   "name": "python3"
  },
  "language_info": {
   "codemirror_mode": {
    "name": "ipython",
    "version": 3
   },
   "file_extension": ".py",
   "mimetype": "text/x-python",
   "name": "python",
   "nbconvert_exporter": "python",
   "pygments_lexer": "ipython3",
   "version": "3.8.3"
  }
 },
 "nbformat": 4,
 "nbformat_minor": 4
}
